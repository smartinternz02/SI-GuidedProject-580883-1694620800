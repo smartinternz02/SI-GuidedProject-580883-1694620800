{
 "cells": [
  {
   "cell_type": "code",
   "execution_count": null,
   "id": "5844548a-a681-45fa-9f32-54a35cc20aa7",
   "metadata": {},
   "outputs": [],
   "source": [
    "import seaborn as sns\n",
    "import matplotlib.pyplot as plt"
   ]
  },
  {
   "cell_type": "code",
   "execution_count": null,
   "id": "18ababce-0239-42f4-b966-9857e2ad9b14",
   "metadata": {},
   "outputs": [],
   "source": [
    "data = sns.load_dataset('car_crashes')"
   ]
  },
  {
   "cell_type": "code",
   "execution_count": null,
   "id": "9c6e62dc-b69a-438f-a387-3c116dbfd24b",
   "metadata": {},
   "outputs": [],
   "source": [
    "data.head()"
   ]
  },
  {
   "cell_type": "code",
   "execution_count": null,
   "id": "61154306-7984-4fa0-bb4e-b8a6c052f30e",
   "metadata": {},
   "outputs": [],
   "source": [
    "sns.distplot(data['total'])"
   ]
  },
  {
   "cell_type": "code",
   "execution_count": null,
   "id": "3060e569-9620-4624-94bf-40579734996c",
   "metadata": {},
   "outputs": [],
   "source": []
  }
 ],
 "metadata": {
  "kernelspec": {
   "display_name": "Python 3 (ipykernel)",
   "language": "python",
   "name": "python3"
  },
  "language_info": {
   "codemirror_mode": {
    "name": "ipython",
    "version": 3
   },
   "file_extension": ".py",
   "mimetype": "text/x-python",
   "name": "python",
   "nbconvert_exporter": "python",
   "pygments_lexer": "ipython3",
   "version": "3.11.5"
  }
 },
 "nbformat": 4,
 "nbformat_minor": 5
}
